{
 "cells": [
  {
   "cell_type": "code",
   "execution_count": 1,
   "metadata": {},
   "outputs": [
    {
     "name": "stdin",
     "output_type": "stream",
     "text": [
      "Input numbers separated by a comma and press enter: 1,2,3,4,5\n"
     ]
    },
    {
     "name": "stdout",
     "output_type": "stream",
     "text": [
      " Your list is:  ['1', '2', '3', '4', '5'] \n",
      " Your tuple is: ('1', '2', '3', '4', '5')\n"
     ]
    }
   ],
   "source": [
    "#Q1.Write a Python program which accepts a sequence of comma-separated numbers from user \n",
    "#and generate a list and a tuple with those numbers.\n",
    "\n",
    "num=input(\"Input numbers separated by a comma and press enter:\").split(',')\n",
    "a=list(num)\n",
    "b=tuple(a)\n",
    "print (\" Your list is: \", a, \"\\n\" ,\"Your tuple is:\", b)"
   ]
  },
  {
   "cell_type": "code",
   "execution_count": 2,
   "metadata": {},
   "outputs": [
    {
     "name": "stdin",
     "output_type": "stream",
     "text": [
      "Input the Filename and press enter:  Maisha.pdf\n"
     ]
    },
    {
     "name": "stdout",
     "output_type": "stream",
     "text": [
      "The extension of the file is : 'pdf'\n"
     ]
    }
   ],
   "source": [
    "#Q2. Write a Python program to accept a filename from the user and print the extension of that.\n",
    "\n",
    "filename = input(\"Input the Filename and press enter: \").split(\".\")\n",
    "print (\"The extension of the file is : \" + repr(filename[-1]))"
   ]
  },
  {
   "cell_type": "code",
   "execution_count": 3,
   "metadata": {},
   "outputs": [
    {
     "name": "stdin",
     "output_type": "stream",
     "text": [
      "Input an interger number and press enter: 5\n"
     ]
    },
    {
     "name": "stdout",
     "output_type": "stream",
     "text": [
      "The computation of the first three mathematical series is: 615\n"
     ]
    }
   ],
   "source": [
    "#Q3.Write a Python program that accepts an integer (n) and computes the value of n+nn+nnn. \n",
    "\n",
    "n=input(\"Input an interger number and press enter:\")\n",
    "m_series= int(n)+int(n*2)+int(n*3)\n",
    "print(\"The computation of the first three mathematical series is:\", m_series)"
   ]
  },
  {
   "cell_type": "code",
   "execution_count": 4,
   "metadata": {},
   "outputs": [
    {
     "name": "stdin",
     "output_type": "stream",
     "text": [
      "Write down all the elements you want to *join* separated by a *,* without spaces: 1,2,3,4,5\n"
     ]
    },
    {
     "name": "stdout",
     "output_type": "stream",
     "text": [
      "12345\n"
     ]
    }
   ],
   "source": [
    "#Q4.Write a Python program to concatenate all elements in a list into a string and return it.\n",
    "\n",
    "elements = list(input(\"Write down all the elements you want to *join* separated by a *,* without spaces:\").split(\",\"))\n",
    "print(\"\".join(elements))"
   ]
  },
  {
   "cell_type": "code",
   "execution_count": 5,
   "metadata": {},
   "outputs": [
    {
     "name": "stdout",
     "output_type": "stream",
     "text": [
      "Total price of all cars: $ 85000\n"
     ]
    }
   ],
   "source": [
    "#Q5.Write a Python program to sum all the items in a dictionary.\n",
    "\n",
    "car_price = {'Mustang':40000,'Hyundai':35000,'Honda':10000}\n",
    "print(\"Total price of all cars: $\", sum(car_price.values()))"
   ]
  },
  {
   "cell_type": "code",
   "execution_count": 6,
   "metadata": {},
   "outputs": [
    {
     "name": "stdout",
     "output_type": "stream",
     "text": [
      "The sum of the values in {'Mustang': 40000, 'Hyundai': 35000, 'Honda': 10000} is 85000\n",
      "The sum of the values in {'Brand': 'Ford', 'Model': 'Mustang', 'Year': 'New'} is Ford+Mustang+New\n",
      "The sum of the values in {1: '100', 2: '200', 3: '300'} is 600\n",
      "The sum of the values in {1: 100, 2: 200, 3: 300} is 600\n",
      "The sum of the values in {1: 'abc', 2: 'xyz'} is abc+xyz\n",
      "The sum of the values in {'A': 'abc', 'B': '100', 'C': '5', 'D': 'xyz', 'E': '200'} are as follows:\n",
      "The sum of the numeric values is 305 \n",
      "The sum of the non_numeric values is abc+xyz \n",
      "And the sum of all the values in the dict is abc+100+5+xyz+200\n"
     ]
    }
   ],
   "source": [
    "#Write a Python program to sum all the values in a given mixed set of dictionaries.      #Maisha Farzana Version.\n",
    "#Master list of dictionaries:\n",
    "#define dictionaries\n",
    "dict_1 = {'Mustang':40000,'Hyundai':35000,'Honda':10000}\n",
    "dict_2 = {\"Brand\": \"Ford\", \"Model\": \"Mustang\", \"Year\": \"New\"}\n",
    "dict_3 = {1:\"100\", 2:\"200\", 3:\"300\"}\n",
    "dict_4 = {1:100, 2:200, 3:300}\n",
    "dict_5 = {1:\"abc\", 2:\"xyz\"}\n",
    "dict_6 = {'A':\"abc\", 'B':\"100\", 'C':\"5\", 'D':\"xyz\", 'E': \"200\"}\n",
    "\n",
    "new_list = [dict_1, dict_2, dict_3, dict_4, dict_5, dict_6]\n",
    "\n",
    "#function that takes dictionaries and adds/concatenates its values depending on whether they are int or string\n",
    "def sum_of_dict(x):\n",
    "    #initialize variables\n",
    "    sum1 = 0\n",
    "    string1 = ''\n",
    "    string2 = \"\"\n",
    "    list1 = []\n",
    "    list2 = []\n",
    "    #run through values in dictionary \n",
    "    for value in x.values():\n",
    "        #force values to be int type and sum them\n",
    "        try:\n",
    "            value = int(value)\n",
    "            sum1 = sum1 + value\n",
    "    #if values cannot be forced to int type force them to be str type and store them in a list\n",
    "        except ValueError:\n",
    "            value = str(value)\n",
    "            list1.append(value)\n",
    "    #convert list of strings to a string with + as delimiter\n",
    "    string1= \"+\".join(list1)\n",
    "    #if sum is 0 (i.e there were no numbers in dictionary) return string\n",
    "    if sum1 == 0:\n",
    "        return string1\n",
    "    #if string is empty (i.e. there were no non-numbers in dictionary) return sum\n",
    "    elif string1 == \"\":\n",
    "        return sum1\n",
    "    #if both are non-zero/non-empty then return both sum and strings\n",
    "    else:\n",
    "        for value in x.values():\n",
    "            value = str(value)\n",
    "            list2.append(value)\n",
    "        string2 = \"+\".join(list2)\n",
    "    return sum1, string1, string2\n",
    "\n",
    "#function that takes in dictionary and prints a nice string using sum_of_dict to get values \n",
    "def value_printer(x):\n",
    "        value = sum_of_dict(x)\n",
    "        if type(value) == int or type(value) == str:\n",
    "            string = \"The sum of the values in {} is {}\".format(x, value)\n",
    "            return string\n",
    "        string = \"The sum of the values in {} are as follows:\\nThe sum of the numeric values is {} \\n\n",
    "                  The sum of the non_numeric values is {} \\nAnd the sum of all the values in the dict is {}\".format(x,value[0], value[1], value[2])\n",
    "        return string \n",
    "    \n",
    "#function that takes the given list of dictionaries and prints out their values\n",
    "def dict_print_auto(new_list):\n",
    "    for dictionary in new_list:\n",
    "        print(value_printer(dictionary))\n",
    "    \n",
    "#call the function dict_print_auto on new_list\n",
    "dict_print_auto(new_list)"
   ]
  },
  {
   "cell_type": "code",
   "execution_count": 7,
   "metadata": {},
   "outputs": [
    {
     "name": "stdout",
     "output_type": "stream",
     "text": [
      "The sum of the values in {'Mustang': 40000, 'Hyundai': 35000, 'Honda': 10000} is 85000\n",
      "The sum of the values in {'Brand': 'Ford', 'Model': 'Mustang', 'Year': 'New'} is Ford+Mustang+New\n",
      "The sum of the values in {1: '100', 2: '200', 3: '300'} is 600\n",
      "The sum of the values in {1: 100, 2: 200, 3: 300} is 600\n",
      "The sum of the values in {1: 'abc', 2: 'xyz'} is abc+xyz\n",
      "The sum of the values in {'A': 'abc', 'B': '100', 'C': '5', 'D': 'xyz', 'E': '200'}:\n",
      "The sum of the numerics is 305 \n",
      "The non_numeric string is abc+xyz \n",
      "And the general string is abc+100+5+xyz+200\n"
     ]
    }
   ],
   "source": [
    "#Write a Python program to sum all the values in a given mixed set of dictionaries.  #Ibrahim Askin and Maisha Farzana Version.\n",
    "\n",
    "#Master list of dictionaries:\n",
    "#define dictionaries \n",
    "dict_1 = {'Mustang':40000,'Hyundai':35000,'Honda':10000}\n",
    "dict_2 = {\"Brand\": \"Ford\", \"Model\": \"Mustang\", \"Year\": \"New\"}\n",
    "dict_3 = {1:\"100\", 2:\"200\", 3:\"300\"}\n",
    "dict_4 = {1:100, 2:200, 3:300}\n",
    "dict_5 = {1:\"abc\", 2:\"xyz\"}\n",
    "dict_6 = {'A':\"abc\", 'B':\"100\", 'C':\"5\", 'D':\"xyz\", 'E': \"200\"}\n",
    "\n",
    "dict_list = [dict_1, dict_2, dict_3, dict_4, dict_5, dict_6]\n",
    "\n",
    "#function that takes dictionaries and adds/concatenates its values depending on whether they are int or string\n",
    "def dict_summer(my_dict):\n",
    "    #initialize variables\n",
    "    my_sum = 0\n",
    "    my_string = ''\n",
    "    my_string1 = \"\"\n",
    "    my_list = []\n",
    "    my_list1 = []\n",
    "    #run through values in dictionary \n",
    "    for value in my_dict.values():\n",
    "        #force values to be int type and sum them\n",
    "        try:\n",
    "            value = int(value)\n",
    "            my_sum = my_sum + value\n",
    "    #if values cannot be forced to int type force them to be str type and store them in a list\n",
    "        except ValueError:\n",
    "            value = str(value)\n",
    "            my_list.append(value)\n",
    "    #convert list of strings to a string with + as delimiter\n",
    "    my_string= \"+\".join(my_list)\n",
    "    #if sum is 0 (i.e there were no numbers in dictionary) return string\n",
    "    if my_sum == 0:\n",
    "        return my_string\n",
    "    #if string is empty (i.e. there were no non-numbers in dictionary) return sum\n",
    "    elif my_string == \"\":\n",
    "        return my_sum\n",
    "    #if both are non-zero/non-empty then return both\n",
    "    else:\n",
    "        for value in my_dict.values():\n",
    "            value = str(value)\n",
    "            my_list1.append(value)\n",
    "        my_string1 = \"+\".join(my_list1)\n",
    "    return my_sum, my_string, my_string1\n",
    "\n",
    "#function that takes in dictionary and prints a nice string using dict_summer to get values \n",
    "def value_printer(my_dict):\n",
    "        value = dict_summer(my_dict)\n",
    "        if type(value) == int or type(value) == str:\n",
    "            string = \"The sum of the values in {} is {}\".format(my_dict, value)\n",
    "            return string\n",
    "        string = \"The sum of the values in {}:\\nThe sum of the numerics is {} \\nThe non_numeric string is {} \\nAnd the general string is {}\".format(my_dict,value[0], value[1], value[2])\n",
    "        return string \n",
    "    \n",
    "#function that takes a list of dictionaries and prints out their values\n",
    "def dict_list_parser(dict_list):\n",
    "    for dictionary in dict_list:\n",
    "        print(value_printer(dictionary))\n",
    "    \n",
    "#call dict_list_parser on dict_list\n",
    "dict_list_parser(dict_list)"
   ]
  }
 ],
 "metadata": {
  "kernelspec": {
   "display_name": "Python 3",
   "language": "python",
   "name": "python3"
  },
  "language_info": {
   "codemirror_mode": {
    "name": "ipython",
    "version": 3
   },
   "file_extension": ".py",
   "mimetype": "text/x-python",
   "name": "python",
   "nbconvert_exporter": "python",
   "pygments_lexer": "ipython3",
   "version": "3.8.5"
  }
 },
 "nbformat": 4,
 "nbformat_minor": 4
}
