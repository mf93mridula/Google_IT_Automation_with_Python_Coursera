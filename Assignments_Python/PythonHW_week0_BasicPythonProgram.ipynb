{
 "cells": [
  {
   "cell_type": "code",
   "execution_count": 27,
   "metadata": {},
   "outputs": [
    {
     "name": "stdin",
     "output_type": "stream",
     "text": [
      "Input the radius of the circle and press enter:  2\n"
     ]
    },
    {
     "name": "stdout",
     "output_type": "stream",
     "text": [
      "The area of the circle is: 12.566370614359172\n"
     ]
    }
   ],
   "source": [
    "#Q1.Write a Python program which accepts the radius of a circle from the user and compute the area.\n",
    "\n",
    "from math import pi\n",
    "r = float(input (\"Input the radius of the circle and press enter: \"))\n",
    "print (\"The area of the circle is: \" + str(pi * r**2))\n"
   ]
  },
  {
   "cell_type": "code",
   "execution_count": 10,
   "metadata": {},
   "outputs": [
    {
     "name": "stdin",
     "output_type": "stream",
     "text": [
      "Input your First Name and press enter:  Maisha\n",
      "Input your Last Name and press enter:  Farzana\n"
     ]
    },
    {
     "name": "stdout",
     "output_type": "stream",
     "text": [
      "Hey! Farzana , Maisha!\n"
     ]
    }
   ],
   "source": [
    "#Q2.Write a Python program which has 2 variables first and last name and print them in reverse order with a space between them.\n",
    "\n",
    "firstname = input(\"Input your First Name and press enter: \")\n",
    "lastname = input(\"Input your Last Name and press enter: \")\n",
    "print (\"Hey! \" + lastname + \" , \" + firstname + \"!\")\n"
   ]
  },
  {
   "cell_type": "code",
   "execution_count": 12,
   "metadata": {},
   "outputs": [
    {
     "name": "stdout",
     "output_type": "stream",
     "text": [
      "2\n",
      "6\n"
     ]
    }
   ],
   "source": [
    "#Q3.Write a Python program to get the difference between a given number and 17, \n",
    "#if the number is greater than 17 return double the absolute difference.\n",
    "\n",
    "def difference(x):\n",
    "    if x <= 17:\n",
    "        return 17 - x\n",
    "    else:\n",
    "        return abs((x - 17)) * 2 \n",
    "\n",
    "print(difference(15))\n",
    "print(difference(20))"
   ]
  },
  {
   "cell_type": "code",
   "execution_count": 30,
   "metadata": {},
   "outputs": [
    {
     "name": "stdout",
     "output_type": "stream",
     "text": [
      "('Your number falls within 100 of 1000 or 2000', False)\n",
      "('Your number falls within 100 of 1000 or 2000', False)\n",
      "('Your number falls within 100 of 1000 or 2000', True)\n",
      "('Your number falls within 100 of 1000 or 2000', True)\n"
     ]
    }
   ],
   "source": [
    "#Q4.Write a Python program to test whether a number is within 100 of 1000 or 2000.\n",
    "\n",
    "def test(x):\n",
    "    if ((abs(1000 - x) <= 100) or (abs(2000 - x) <= 100)):\n",
    "        return (\"Your number falls within 100 of 1000 or 2000\", True)\n",
    "    else:\n",
    "        return (\"Your number falls within 100 of 1000 or 2000\", False)\n",
    "    \n",
    "print(test(10000))\n",
    "print(test(9000))\n",
    "print(test(900))   \n",
    "print(test(2100))"
   ]
  },
  {
   "cell_type": "code",
   "execution_count": 26,
   "metadata": {},
   "outputs": [
    {
     "name": "stdout",
     "output_type": "stream",
     "text": [
      "6\n",
      "15\n",
      "18\n"
     ]
    }
   ],
   "source": [
    "#Q5.Write a Python program to calculate the sum of three given numbers, if the values are equal then return three times of their sum.\n",
    "\n",
    "def sum_of_three(x, y, z):\n",
    "    sum = x + y + z\n",
    "    if x == y == z:\n",
    "        sum = sum * 3\n",
    "    return sum\n",
    "\n",
    "print(sum_of_three(1, 2, 3))\n",
    "print(sum_of_three(4, 5, 6))\n",
    "print(sum_of_three(2, 2, 2))"
   ]
  }
 ],
 "metadata": {
  "kernelspec": {
   "display_name": "Python 3",
   "language": "python",
   "name": "python3"
  },
  "language_info": {
   "codemirror_mode": {
    "name": "ipython",
    "version": 3
   },
   "file_extension": ".py",
   "mimetype": "text/x-python",
   "name": "python",
   "nbconvert_exporter": "python",
   "pygments_lexer": "ipython3",
   "version": "3.8.5"
  }
 },
 "nbformat": 4,
 "nbformat_minor": 4
}
